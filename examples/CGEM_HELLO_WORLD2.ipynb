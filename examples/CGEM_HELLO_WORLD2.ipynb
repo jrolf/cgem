{
 "cells": [
  {
   "cell_type": "code",
   "execution_count": 1,
   "id": "5e2ec9e9",
   "metadata": {},
   "outputs": [],
   "source": [
    "Notes = '''\n",
    "\n",
    "## Add the locations of your python Libraries if you have multiple locations:\n",
    "\n",
    "import sys\n",
    "new_paths = [\n",
    "    \"/Users/jar/Library/Python/3.8/bin\",\n",
    "    \"/Users/jar/Library/Python/3.8/lib/python/site-packages\", \n",
    "]\n",
    "for p in new_paths:\n",
    "    if p not in sys.path: \n",
    "        sys.path = [p]+sys.path  \n",
    "\n",
    "'''"
   ]
  },
  {
   "cell_type": "code",
   "execution_count": 2,
   "id": "e14731ea",
   "metadata": {},
   "outputs": [],
   "source": [
    "#############################################################################\n",
    "#############################################################################"
   ]
  },
  {
   "cell_type": "code",
   "execution_count": 3,
   "id": "429a6601",
   "metadata": {},
   "outputs": [],
   "source": [
    "### INSTALL THE CGEM MODULE:\n",
    "# pip install --upgrade cgem\n",
    "# pip show cgem"
   ]
  },
  {
   "cell_type": "code",
   "execution_count": 4,
   "id": "d94bdacf",
   "metadata": {},
   "outputs": [
    {
     "name": "stdout",
     "output_type": "stream",
     "text": [
      "Name: cgem\n",
      "Version: 0.0.9\n",
      "Summary: CGEM: Collaborative Generalized Effects Modeling\n",
      "Home-page: https://github.com/jrolf/cgem\n",
      "Author: James A. Rolfsen\n",
      "Author-email: james.rolfsen@think.dev\n",
      "License: UNKNOWN\n",
      "Location: /Users/jar/opt/anaconda3/lib/python3.8/site-packages\n",
      "Requires: sympy, pygam, statsmodels, xgboost, numpy, scipy, pandas-ta, pandas, scikit-learn\n",
      "Required-by: \n",
      "Note: you may need to restart the kernel to use updated packages.\n"
     ]
    }
   ],
   "source": [
    "pip show cgem"
   ]
  },
  {
   "cell_type": "code",
   "execution_count": 5,
   "id": "a7b63d2f",
   "metadata": {},
   "outputs": [],
   "source": [
    "from cgem import *"
   ]
  },
  {
   "cell_type": "code",
   "execution_count": 6,
   "id": "647747bc",
   "metadata": {},
   "outputs": [],
   "source": [
    "#############################################################################\n",
    "#############################################################################"
   ]
  },
  {
   "cell_type": "code",
   "execution_count": 7,
   "id": "38b2f4a6",
   "metadata": {},
   "outputs": [],
   "source": [
    "Task = '''\n",
    "\n",
    "Create a simple causal simulation to generate a dataset\n",
    "that can be used to conduct a computational proof of CGEM.\n",
    "\n",
    "'''\n",
    "def gen_artificial_data_v1(size=10000):\n",
    "    \"\"\"\n",
    "    Generate an artificial dataset representing a causal system.\n",
    "\n",
    "    Parameters:\n",
    "    size (int): Number of data points to generate.\n",
    "\n",
    "    Returns:\n",
    "    pandas.DataFrame: A DataFrame with the generated data.\n",
    "    \"\"\"\n",
    "    global cats,effs\n",
    "    # Generating random values for the variables\n",
    "    reg_var_a = np.random.normal(10, 3, size)\n",
    "    reg_var_b = np.random.normal(12, 4, size)\n",
    "    reg_var_c = np.random.normal(15, 5, size)\n",
    "\n",
    "    # Calculating the effect based on the variables\n",
    "    effect_x = 20.0 + (1.0 * reg_var_a) + (1.5 * reg_var_b) + (2.0 * reg_var_c)\n",
    "\n",
    "    # Defining categories and their corresponding effects\n",
    "    cats = list(\"ABCDEFGHIJ\")\n",
    "    effs = np.around(np.linspace(0.5, 1.4, len(cats)), 2)\n",
    "    cat2effect = {cat: round(eff, 4) for cat, eff in zip(cats, effs)}\n",
    "\n",
    "    # Generating categorical variable and its effect\n",
    "    cat_var_d = np.array([choice(cats) for _ in range(size)])\n",
    "    cat_effect_d = np.array([cat2effect[c] for c in cat_var_d])\n",
    "\n",
    "    # Adding a noise effect\n",
    "    noise_effect = np.random.uniform(0.90, 1.10, size)\n",
    "\n",
    "    # Calculating the target variable\n",
    "    target_var_z = ((effect_x) * cat_effect_d) * noise_effect\n",
    "\n",
    "    # Constructing the dataframe\n",
    "    df = pd.DataFrame({\n",
    "        'TGT_Z': target_var_z,\n",
    "        'REG_A': reg_var_a,\n",
    "        'REG_B': reg_var_b,\n",
    "        'REG_C': reg_var_c,\n",
    "        'CAT_D': cat_var_d\n",
    "    })\n",
    "\n",
    "    return df\n",
    "\n",
    "#------------------------------------------------\n",
    "\n",
    "DF1 = gen_artificial_data_v1(size=10000)\n",
    "DF2 = gen_artificial_data_v1(size=10000) \n",
    "\n",
    "#------------------------------------------------"
   ]
  },
  {
   "cell_type": "code",
   "execution_count": 8,
   "id": "3acfd774",
   "metadata": {},
   "outputs": [
    {
     "data": {
      "text/html": [
       "<div>\n",
       "<style scoped>\n",
       "    .dataframe tbody tr th:only-of-type {\n",
       "        vertical-align: middle;\n",
       "    }\n",
       "\n",
       "    .dataframe tbody tr th {\n",
       "        vertical-align: top;\n",
       "    }\n",
       "\n",
       "    .dataframe thead th {\n",
       "        text-align: right;\n",
       "    }\n",
       "</style>\n",
       "<table border=\"1\" class=\"dataframe\">\n",
       "  <thead>\n",
       "    <tr style=\"text-align: right;\">\n",
       "      <th></th>\n",
       "      <th>TGT_Z</th>\n",
       "      <th>REG_A</th>\n",
       "      <th>REG_B</th>\n",
       "      <th>REG_C</th>\n",
       "      <th>CAT_D</th>\n",
       "    </tr>\n",
       "  </thead>\n",
       "  <tbody>\n",
       "    <tr>\n",
       "      <th>0</th>\n",
       "      <td>92.796096</td>\n",
       "      <td>8.407800</td>\n",
       "      <td>12.285544</td>\n",
       "      <td>13.221552</td>\n",
       "      <td>H</td>\n",
       "    </tr>\n",
       "    <tr>\n",
       "      <th>1</th>\n",
       "      <td>98.605217</td>\n",
       "      <td>9.433186</td>\n",
       "      <td>17.764508</td>\n",
       "      <td>16.382178</td>\n",
       "      <td>G</td>\n",
       "    </tr>\n",
       "    <tr>\n",
       "      <th>2</th>\n",
       "      <td>99.193593</td>\n",
       "      <td>11.733575</td>\n",
       "      <td>10.806605</td>\n",
       "      <td>13.514444</td>\n",
       "      <td>J</td>\n",
       "    </tr>\n",
       "    <tr>\n",
       "      <th>3</th>\n",
       "      <td>86.090798</td>\n",
       "      <td>12.569640</td>\n",
       "      <td>10.743854</td>\n",
       "      <td>15.061856</td>\n",
       "      <td>G</td>\n",
       "    </tr>\n",
       "    <tr>\n",
       "      <th>4</th>\n",
       "      <td>58.846771</td>\n",
       "      <td>6.919460</td>\n",
       "      <td>13.300037</td>\n",
       "      <td>13.996446</td>\n",
       "      <td>D</td>\n",
       "    </tr>\n",
       "    <tr>\n",
       "      <th>5</th>\n",
       "      <td>40.924103</td>\n",
       "      <td>9.616978</td>\n",
       "      <td>11.478593</td>\n",
       "      <td>14.345552</td>\n",
       "      <td>A</td>\n",
       "    </tr>\n",
       "    <tr>\n",
       "      <th>6</th>\n",
       "      <td>110.287898</td>\n",
       "      <td>10.480244</td>\n",
       "      <td>11.591330</td>\n",
       "      <td>16.764344</td>\n",
       "      <td>I</td>\n",
       "    </tr>\n",
       "    <tr>\n",
       "      <th>7</th>\n",
       "      <td>37.065587</td>\n",
       "      <td>14.065405</td>\n",
       "      <td>4.197482</td>\n",
       "      <td>10.703233</td>\n",
       "      <td>B</td>\n",
       "    </tr>\n",
       "    <tr>\n",
       "      <th>8</th>\n",
       "      <td>72.684934</td>\n",
       "      <td>15.216271</td>\n",
       "      <td>6.273357</td>\n",
       "      <td>13.400651</td>\n",
       "      <td>G</td>\n",
       "    </tr>\n",
       "    <tr>\n",
       "      <th>9</th>\n",
       "      <td>44.660527</td>\n",
       "      <td>12.377715</td>\n",
       "      <td>8.406873</td>\n",
       "      <td>17.507483</td>\n",
       "      <td>B</td>\n",
       "    </tr>\n",
       "  </tbody>\n",
       "</table>\n",
       "</div>"
      ],
      "text/plain": [
       "        TGT_Z      REG_A      REG_B      REG_C CAT_D\n",
       "0   92.796096   8.407800  12.285544  13.221552     H\n",
       "1   98.605217   9.433186  17.764508  16.382178     G\n",
       "2   99.193593  11.733575  10.806605  13.514444     J\n",
       "3   86.090798  12.569640  10.743854  15.061856     G\n",
       "4   58.846771   6.919460  13.300037  13.996446     D\n",
       "5   40.924103   9.616978  11.478593  14.345552     A\n",
       "6  110.287898  10.480244  11.591330  16.764344     I\n",
       "7   37.065587  14.065405   4.197482  10.703233     B\n",
       "8   72.684934  15.216271   6.273357  13.400651     G\n",
       "9   44.660527  12.377715   8.406873  17.507483     B"
      ]
     },
     "execution_count": 8,
     "metadata": {},
     "output_type": "execute_result"
    }
   ],
   "source": [
    "DF1.head(10) "
   ]
  },
  {
   "cell_type": "code",
   "execution_count": 9,
   "id": "c8d94987",
   "metadata": {},
   "outputs": [],
   "source": [
    "#############################################################################\n",
    "#############################################################################"
   ]
  },
  {
   "cell_type": "code",
   "execution_count": 10,
   "id": "9da343d5",
   "metadata": {},
   "outputs": [],
   "source": [
    "### MASTER EFFECTS FORMULA: \n",
    "Formula = \"TGT_Z = CAT_D_EFF * LIN_REG_EFF\"\n",
    "\n",
    "### TERMS PARAMETERS:\n",
    "tparams = {\n",
    "    \"CAT_D_EFF\": {\n",
    "        'model': \"CatRegModel()\", \n",
    "        'xvars': ['CAT_D'],\n",
    "        'ival' : 10,\n",
    "    },\n",
    "    \"LIN_REG_EFF\": {\n",
    "        'model': \"OLS()\", \n",
    "        'xvars': ['REG_A','REG_B','REG_C'],\n",
    "        'ival' : 10,\n",
    "    } \n",
    "}   "
   ]
  },
  {
   "cell_type": "code",
   "execution_count": 11,
   "id": "dbe1786e",
   "metadata": {},
   "outputs": [],
   "source": [
    "### CREATE CGEM MODEL AND LOAD THE PARAMETERS:\n",
    "model = CGEM() \n",
    "model.load_df(DF1)  \n",
    "model.define_form(Formula) \n",
    "model.define_terms(tparams)  "
   ]
  },
  {
   "cell_type": "code",
   "execution_count": 12,
   "id": "4fd8ce8c",
   "metadata": {},
   "outputs": [
    {
     "name": "stdout",
     "output_type": "stream",
     "text": [
      "\n",
      "##################################################\n",
      "Learning Epoch: 1\n",
      "--------------------------------------------------\n",
      "RMSE 1: 36.835527438818026\n",
      "RMSE 2: 31.518551982705677\n",
      "DELTA: -5.316975456112349\n",
      "RSQ 1: -1.0425792965333236\n",
      "RSQ 2: -0.49546982380792204\n",
      "DELTA: 0.5471094727254016\n",
      "--------------------------------------------------\n",
      "\n",
      "##################################################\n",
      "Learning Epoch: 2\n",
      "--------------------------------------------------\n",
      "RMSE 1: 31.518551982705677\n",
      "RMSE 2: 27.183171887463807\n",
      "DELTA: -4.33538009524187\n",
      "RSQ 1: -0.49546982380792204\n",
      "RSQ 2: -0.11236010045902822\n",
      "DELTA: 0.3831097233488938\n",
      "--------------------------------------------------\n",
      "\n",
      "##################################################\n",
      "Learning Epoch: 3\n",
      "--------------------------------------------------\n",
      "RMSE 1: 27.183171887463807\n",
      "RMSE 2: 23.638744348874727\n",
      "DELTA: -3.5444275385890798\n",
      "RSQ 1: -0.11236010045902822\n",
      "RSQ 2: 0.15881029737036934\n",
      "DELTA: 0.27117039782939756\n",
      "--------------------------------------------------\n",
      "\n",
      "##################################################\n",
      "Learning Epoch: 4\n",
      "--------------------------------------------------\n",
      "RMSE 1: 23.638744348874727\n",
      "RMSE 2: 20.729868964352686\n",
      "DELTA: -2.908875384522041\n",
      "RSQ 1: 0.15881029737036934\n",
      "RSQ 2: 0.35309835755080865\n",
      "DELTA: 0.19428806018043931\n",
      "--------------------------------------------------\n",
      "\n",
      "##################################################\n",
      "Learning Epoch: 5\n",
      "--------------------------------------------------\n",
      "RMSE 1: 20.729868964352686\n",
      "RMSE 2: 18.33076239543062\n",
      "DELTA: -2.3991065689220648\n",
      "RSQ 1: 0.35309835755080865\n",
      "RSQ 2: 0.4941681211806447\n",
      "DELTA: 0.14106976362983603\n",
      "--------------------------------------------------\n",
      "\n",
      "##################################################\n",
      "Learning Epoch: 6\n",
      "--------------------------------------------------\n",
      "RMSE 1: 18.33076239543062\n",
      "RMSE 2: 16.339763015885225\n",
      "DELTA: -1.9909993795453964\n",
      "RSQ 1: 0.4941681211806447\n",
      "RSQ 2: 0.5980827493395708\n",
      "DELTA: 0.10391462815892616\n",
      "--------------------------------------------------\n",
      "\n",
      "##################################################\n",
      "Learning Epoch: 7\n",
      "--------------------------------------------------\n",
      "RMSE 1: 16.339763015885225\n",
      "RMSE 2: 14.675380818288964\n",
      "DELTA: -1.664382197596261\n",
      "RSQ 1: 0.5980827493395708\n",
      "RSQ 2: 0.675791871230397\n",
      "DELTA: 0.07770912189082613\n",
      "--------------------------------------------------\n",
      "\n",
      "##################################################\n",
      "Learning Epoch: 8\n",
      "--------------------------------------------------\n",
      "RMSE 1: 14.675380818288964\n",
      "RMSE 2: 13.272967104270803\n",
      "DELTA: -1.4024137140181612\n",
      "RSQ 1: 0.675791871230397\n",
      "RSQ 2: 0.7347953246276968\n",
      "DELTA: 0.05900345339729984\n",
      "--------------------------------------------------\n",
      "\n",
      "##################################################\n",
      "Learning Epoch: 9\n",
      "--------------------------------------------------\n",
      "RMSE 1: 13.272967104270803\n",
      "RMSE 2: 12.081598197426901\n",
      "DELTA: -1.191368906843902\n",
      "RSQ 1: 0.7347953246276968\n",
      "RSQ 2: 0.7802676925817809\n",
      "DELTA: 0.04547236795408405\n",
      "--------------------------------------------------\n",
      "\n",
      "##################################################\n",
      "Learning Epoch: 10\n",
      "--------------------------------------------------\n",
      "RMSE 1: 12.081598197426901\n",
      "RMSE 2: 11.061530212493343\n",
      "DELTA: -1.0200679849335579\n",
      "RSQ 1: 0.7802676925817809\n",
      "RSQ 2: 0.8158059658432074\n",
      "DELTA: 0.035538273261426556\n",
      "--------------------------------------------------\n",
      "\n",
      "##################################################\n",
      "Learning Epoch: 11\n",
      "--------------------------------------------------\n",
      "RMSE 1: 11.061530212493343\n",
      "RMSE 2: 10.181893442004649\n",
      "DELTA: -0.8796367704886947\n",
      "RSQ 1: 0.8158059658432074\n",
      "RSQ 2: 0.8439361791716322\n",
      "DELTA: 0.028130213328424802\n",
      "--------------------------------------------------\n",
      "\n",
      "##################################################\n",
      "Learning Epoch: 12\n",
      "--------------------------------------------------\n",
      "RMSE 1: 10.181893442004649\n",
      "RMSE 2: 9.41877657225681\n",
      "DELTA: -0.7631168697478383\n",
      "RSQ 1: 0.8439361791716322\n",
      "RSQ 2: 0.8664530020486738\n",
      "DELTA: 0.022516822877041598\n",
      "--------------------------------------------------\n",
      "\n",
      "##################################################\n",
      "Learning Epoch: 13\n",
      "--------------------------------------------------\n",
      "RMSE 1: 9.41877657225681\n",
      "RMSE 2: 8.753681310569135\n",
      "DELTA: -0.6650952616876751\n",
      "RSQ 1: 0.8664530020486738\n",
      "RSQ 2: 0.8846476084408987\n",
      "DELTA: 0.01819460639222492\n",
      "--------------------------------------------------\n",
      "\n",
      "##################################################\n",
      "Learning Epoch: 14\n",
      "--------------------------------------------------\n",
      "RMSE 1: 8.753681310569135\n",
      "RMSE 2: 8.172187074440119\n",
      "DELTA: -0.5814942361290161\n",
      "RSQ 1: 0.8846476084408987\n",
      "RSQ 2: 0.8994639681708297\n",
      "DELTA: 0.014816359729931006\n",
      "--------------------------------------------------\n",
      "\n",
      "##################################################\n",
      "Learning Epoch: 15\n",
      "--------------------------------------------------\n",
      "RMSE 1: 8.172187074440119\n",
      "RMSE 2: 7.6629361065417685\n",
      "DELTA: -0.5092509678983506\n",
      "RSQ 1: 0.8994639681708297\n",
      "RSQ 2: 0.9116034024769055\n",
      "DELTA: 0.01213943430607578\n",
      "--------------------------------------------------\n",
      "\n",
      "##################################################\n",
      "Learning Epoch: 16\n",
      "--------------------------------------------------\n",
      "RMSE 1: 7.6629361065417685\n",
      "RMSE 2: 7.21684224403016\n",
      "DELTA: -0.4460938625116082\n",
      "RSQ 1: 0.9116034024769055\n",
      "RSQ 2: 0.9215957573681273\n",
      "DELTA: 0.009992354891221744\n",
      "--------------------------------------------------\n",
      "\n",
      "##################################################\n",
      "Learning Epoch: 17\n",
      "--------------------------------------------------\n",
      "RMSE 1: 7.21684224403016\n",
      "RMSE 2: 6.826452084073035\n",
      "DELTA: -0.3903901599571249\n",
      "RSQ 1: 0.9215957573681273\n",
      "RSQ 2: 0.9298487793269217\n",
      "DELTA: 0.008253021958794404\n",
      "--------------------------------------------------\n",
      "\n",
      "##################################################\n",
      "Learning Epoch: 18\n",
      "--------------------------------------------------\n",
      "RMSE 1: 6.826452084073035\n",
      "RMSE 2: 6.485506952354212\n",
      "DELTA: -0.340945131718823\n",
      "RSQ 1: 0.9298487793269217\n",
      "RSQ 2: 0.9366811529312088\n",
      "DELTA: 0.006832373604287123\n",
      "--------------------------------------------------\n",
      "\n",
      "##################################################\n",
      "Learning Epoch: 19\n",
      "--------------------------------------------------\n",
      "RMSE 1: 6.485506952354212\n",
      "RMSE 2: 6.188618339816795\n",
      "DELTA: -0.2968886125374173\n",
      "RSQ 1: 0.9366811529312088\n",
      "RSQ 2: 0.9423455889571049\n",
      "DELTA: 0.005664436025896058\n",
      "--------------------------------------------------\n",
      "\n",
      "##################################################\n",
      "Learning Epoch: 20\n",
      "--------------------------------------------------\n",
      "RMSE 1: 6.188618339816795\n",
      "RMSE 2: 5.931019018946527\n",
      "DELTA: -0.25759932087026804\n",
      "RSQ 1: 0.9423455889571049\n",
      "RSQ 2: 0.9470453900607302\n",
      "DELTA: 0.004699801103625334\n",
      "--------------------------------------------------\n",
      "\n",
      "##################################################\n",
      "Learning Epoch: 21\n",
      "--------------------------------------------------\n",
      "RMSE 1: 5.931019018946527\n",
      "RMSE 2: 5.708406046231058\n",
      "DELTA: -0.22261297271546887\n",
      "RSQ 1: 0.9470453900607302\n",
      "RSQ 2: 0.9509459516329151\n",
      "DELTA: 0.0039005615721848796\n",
      "--------------------------------------------------\n",
      "\n",
      "##################################################\n",
      "Learning Epoch: 22\n",
      "--------------------------------------------------\n",
      "RMSE 1: 5.708406046231058\n",
      "RMSE 2: 5.516858693231069\n",
      "DELTA: -0.19154735299998915\n",
      "RSQ 1: 0.9509459516329151\n",
      "RSQ 2: 0.9541827667009697\n",
      "DELTA: 0.0032368150680546215\n",
      "--------------------------------------------------\n",
      "\n",
      "##################################################\n",
      "Learning Epoch: 23\n",
      "--------------------------------------------------\n",
      "RMSE 1: 5.516858693231069\n",
      "RMSE 2: 5.352777376910657\n",
      "DELTA: -0.164081316320412\n",
      "RSQ 1: 0.9541827667009697\n",
      "RSQ 2: 0.9568676120517235\n",
      "DELTA: 0.0026848453507538617\n",
      "--------------------------------------------------\n",
      "\n",
      "##################################################\n",
      "Learning Epoch: 24\n",
      "--------------------------------------------------\n",
      "RMSE 1: 5.352777376910657\n",
      "RMSE 2: 5.212843570234364\n",
      "DELTA: -0.13993380667629296\n",
      "RSQ 1: 0.9568676120517235\n",
      "RSQ 2: 0.9590932925192408\n",
      "DELTA: 0.002225680467517255\n",
      "--------------------------------------------------\n",
      "\n",
      "##################################################\n",
      "Learning Epoch: 25\n",
      "--------------------------------------------------\n",
      "RMSE 1: 5.212843570234364\n",
      "RMSE 2: 5.094019872977682\n",
      "DELTA: -0.11882369725668163\n",
      "RSQ 1: 0.9590932925192408\n",
      "RSQ 2: 0.9609369265825553\n",
      "DELTA: 0.0018436340633144477\n",
      "--------------------------------------------------\n",
      "CGEM model fitting complete. (25 epochs)\n"
     ]
    }
   ],
   "source": [
    "### FIT THE CGEM MODEL WITH N LEARNING EPOCHS:\n",
    "model.fit(25,verbose=True); "
   ]
  },
  {
   "cell_type": "code",
   "execution_count": 13,
   "id": "3f03aefe",
   "metadata": {},
   "outputs": [],
   "source": [
    "#############################################################################\n",
    "#############################################################################"
   ]
  },
  {
   "cell_type": "code",
   "execution_count": 14,
   "id": "c199064e",
   "metadata": {
    "scrolled": true
   },
   "outputs": [
    {
     "name": "stdout",
     "output_type": "stream",
     "text": [
      "CrosVal R-Squared: 0.96904\n"
     ]
    }
   ],
   "source": [
    "### TAKE THE FITTED MODEL AND APPLY IT TO THE TEST SET \n",
    "### TO EVALUATE MODEL PERFORMANCE ON OUT-OF-SAMPLE DATA: \n",
    "preds = model.predict(DF2) \n",
    "actuals = DF2['TGT_Z'].values\n",
    "r2 = model.calc_r2(actuals,preds)  \n",
    "print('CrosVal R-Squared:',round(r2,5))  # CrosVal R-Squared: 0.96904 "
   ]
  },
  {
   "cell_type": "code",
   "execution_count": 15,
   "id": "b25448d8",
   "metadata": {},
   "outputs": [],
   "source": [
    "#############################################################################\n",
    "#############################################################################\n",
    "#############################################################################\n",
    "#############################################################################"
   ]
  },
  {
   "cell_type": "code",
   "execution_count": null,
   "id": "9d1319cd",
   "metadata": {},
   "outputs": [],
   "source": []
  },
  {
   "cell_type": "code",
   "execution_count": null,
   "id": "312c6e8c",
   "metadata": {},
   "outputs": [],
   "source": []
  },
  {
   "cell_type": "code",
   "execution_count": null,
   "id": "aad167ff",
   "metadata": {},
   "outputs": [],
   "source": []
  },
  {
   "cell_type": "code",
   "execution_count": 16,
   "id": "b1fc8824",
   "metadata": {},
   "outputs": [],
   "source": [
    "OLS?"
   ]
  },
  {
   "cell_type": "code",
   "execution_count": null,
   "id": "6e748490",
   "metadata": {},
   "outputs": [],
   "source": []
  },
  {
   "cell_type": "code",
   "execution_count": null,
   "id": "f82fa1ab",
   "metadata": {},
   "outputs": [],
   "source": []
  },
  {
   "cell_type": "code",
   "execution_count": 19,
   "id": "e49516f4",
   "metadata": {},
   "outputs": [],
   "source": [
    "import numpy as np\n",
    "import pandas as pd\n",
    "\n",
    "def get_n_dims(arr):\n",
    "    \"\"\"\n",
    "    Returns the number of dimensions of a numpy array or pandas DataFrame.\n",
    "\n",
    "    :param arr: numpy array or pandas DataFrame\n",
    "    :return: integer representing the number of dimensions\n",
    "    \"\"\"\n",
    "    return arr.ndim\n"
   ]
  },
  {
   "cell_type": "code",
   "execution_count": 21,
   "id": "a7021e6c",
   "metadata": {},
   "outputs": [
    {
     "data": {
      "text/plain": [
       "2"
      ]
     },
     "execution_count": 21,
     "metadata": {},
     "output_type": "execute_result"
    }
   ],
   "source": [
    "get_n_dims(DF1)"
   ]
  },
  {
   "cell_type": "code",
   "execution_count": 24,
   "id": "4ff1e66a",
   "metadata": {},
   "outputs": [
    {
     "data": {
      "text/plain": [
       "3"
      ]
     },
     "execution_count": 24,
     "metadata": {},
     "output_type": "execute_result"
    }
   ],
   "source": [
    "a = np.array([[[1,2,3,4]]])  \n",
    "get_n_dims(a)"
   ]
  },
  {
   "cell_type": "code",
   "execution_count": 25,
   "id": "6dc41998",
   "metadata": {},
   "outputs": [
    {
     "data": {
      "text/plain": [
       "\"<class 'pandas.core.frame.DataFrame'>\""
      ]
     },
     "execution_count": 25,
     "metadata": {},
     "output_type": "execute_result"
    }
   ],
   "source": [
    "str(type(DF1))"
   ]
  },
  {
   "cell_type": "code",
   "execution_count": null,
   "id": "3cfff16d",
   "metadata": {},
   "outputs": [],
   "source": []
  },
  {
   "cell_type": "code",
   "execution_count": 26,
   "id": "eaab9587",
   "metadata": {},
   "outputs": [],
   "source": [
    "b = np.array(a).flatten()"
   ]
  },
  {
   "cell_type": "code",
   "execution_count": 27,
   "id": "097a786c",
   "metadata": {},
   "outputs": [
    {
     "data": {
      "text/plain": [
       "array([1, 2, 3, 4])"
      ]
     },
     "execution_count": 27,
     "metadata": {},
     "output_type": "execute_result"
    }
   ],
   "source": [
    "b"
   ]
  },
  {
   "cell_type": "code",
   "execution_count": 29,
   "id": "0fda8e85",
   "metadata": {},
   "outputs": [
    {
     "data": {
      "text/plain": [
       "array([1, 2, 3, 4])"
      ]
     },
     "execution_count": 29,
     "metadata": {},
     "output_type": "execute_result"
    }
   ],
   "source": [
    "c = np.array(b).flatten()\n",
    "c"
   ]
  },
  {
   "cell_type": "code",
   "execution_count": null,
   "id": "4184d25a",
   "metadata": {},
   "outputs": [],
   "source": []
  },
  {
   "cell_type": "code",
   "execution_count": 30,
   "id": "4fa435be",
   "metadata": {},
   "outputs": [
    {
     "name": "stdout",
     "output_type": "stream",
     "text": [
      "{1: 4.0, 2: 5.0, 3: 6.0}\n"
     ]
    }
   ],
   "source": [
    "import numpy as np\n",
    "\n",
    "def compute_averages(x, y):\n",
    "    # Find the unique categories and their counts\n",
    "    categories, counts = np.unique(x, return_counts=True)\n",
    "\n",
    "    # Sum the observations for each category\n",
    "    sums = np.bincount(x, weights=y)\n",
    "\n",
    "    # Compute averages, avoiding division by zero for any category not in x\n",
    "    averages = sums[categories] / counts\n",
    "\n",
    "    return dict(zip(categories, averages))\n",
    "\n",
    "# Example usage\n",
    "x = np.array([1, 2, 3, 1, 2, 3, 1, 2, 3])  # Category IDs\n",
    "y = np.array([1, 2, 3, 4, 5, 6, 7, 8, 9])  # Observation values\n",
    "\n",
    "average_values = compute_averages(x, y) \n",
    "print(average_values)\n"
   ]
  },
  {
   "cell_type": "code",
   "execution_count": null,
   "id": "acc4fb16",
   "metadata": {},
   "outputs": [],
   "source": []
  },
  {
   "cell_type": "code",
   "execution_count": null,
   "id": "5e5b65d9",
   "metadata": {},
   "outputs": [],
   "source": []
  },
  {
   "cell_type": "code",
   "execution_count": 31,
   "id": "2e5ac804",
   "metadata": {},
   "outputs": [
    {
     "name": "stdout",
     "output_type": "stream",
     "text": [
      "[6. 4. 5. 6. 4.]\n"
     ]
    }
   ],
   "source": [
    "import numpy as np\n",
    "\n",
    "def map_averages_to_new_ids(averages_dict, a):\n",
    "    # Create a mapping from category IDs to indices\n",
    "    unique_ids = np.unique(a)\n",
    "    id_to_index = {id_: i for i, id_ in enumerate(unique_ids)}\n",
    "\n",
    "    # Create an array of averages using this mapping\n",
    "    averages_array = np.array([averages_dict.get(id_, 0) for id_ in unique_ids])\n",
    "\n",
    "    # Map the averages to the new IDs in array 'a' using the mapping\n",
    "    index_array = np.vectorize(id_to_index.get)(a)\n",
    "    b = averages_array[index_array]\n",
    "\n",
    "    return b\n",
    "\n",
    "# Example usage\n",
    "averages_dict = {'cat1': 4.0, 'cat2': 5.0, 'cat3': 6.0}  # Replace with your calculated averages\n",
    "a = np.array(['cat3', 'cat1', 'cat2', 'cat3', 'cat1'])    # New category IDs array\n",
    "\n",
    "b = map_averages_to_new_ids(averages_dict, a)\n",
    "print(b)\n"
   ]
  },
  {
   "cell_type": "code",
   "execution_count": null,
   "id": "c03e8f2d",
   "metadata": {},
   "outputs": [],
   "source": []
  },
  {
   "cell_type": "code",
   "execution_count": null,
   "id": "9b141c5e",
   "metadata": {},
   "outputs": [],
   "source": []
  },
  {
   "cell_type": "code",
   "execution_count": null,
   "id": "9e05aa9c",
   "metadata": {},
   "outputs": [],
   "source": []
  },
  {
   "cell_type": "code",
   "execution_count": null,
   "id": "1880786c",
   "metadata": {},
   "outputs": [],
   "source": []
  },
  {
   "cell_type": "code",
   "execution_count": null,
   "id": "baba0b24",
   "metadata": {},
   "outputs": [],
   "source": []
  },
  {
   "cell_type": "code",
   "execution_count": null,
   "id": "8ed13d4b",
   "metadata": {},
   "outputs": [],
   "source": []
  },
  {
   "cell_type": "code",
   "execution_count": null,
   "id": "8a239eb5",
   "metadata": {},
   "outputs": [],
   "source": []
  },
  {
   "cell_type": "code",
   "execution_count": null,
   "id": "b4d0bc43",
   "metadata": {},
   "outputs": [],
   "source": []
  },
  {
   "cell_type": "code",
   "execution_count": null,
   "id": "18f475d7",
   "metadata": {},
   "outputs": [],
   "source": []
  },
  {
   "cell_type": "code",
   "execution_count": null,
   "id": "038de8f7",
   "metadata": {},
   "outputs": [],
   "source": []
  },
  {
   "cell_type": "code",
   "execution_count": null,
   "id": "9a79d4ce",
   "metadata": {},
   "outputs": [],
   "source": []
  },
  {
   "cell_type": "code",
   "execution_count": null,
   "id": "61c7c11b",
   "metadata": {},
   "outputs": [],
   "source": []
  },
  {
   "cell_type": "code",
   "execution_count": null,
   "id": "d3c75892",
   "metadata": {},
   "outputs": [],
   "source": []
  },
  {
   "cell_type": "code",
   "execution_count": null,
   "id": "2d3d37d1",
   "metadata": {},
   "outputs": [],
   "source": []
  },
  {
   "cell_type": "code",
   "execution_count": null,
   "id": "1c4d5f30",
   "metadata": {},
   "outputs": [],
   "source": []
  },
  {
   "cell_type": "code",
   "execution_count": null,
   "id": "0e60eed3",
   "metadata": {},
   "outputs": [],
   "source": []
  },
  {
   "cell_type": "code",
   "execution_count": null,
   "id": "2a284239",
   "metadata": {},
   "outputs": [],
   "source": []
  },
  {
   "cell_type": "code",
   "execution_count": null,
   "id": "1c2928e6",
   "metadata": {},
   "outputs": [],
   "source": []
  },
  {
   "cell_type": "code",
   "execution_count": null,
   "id": "5521221e",
   "metadata": {},
   "outputs": [],
   "source": []
  },
  {
   "cell_type": "code",
   "execution_count": null,
   "id": "98a4eb62",
   "metadata": {},
   "outputs": [],
   "source": []
  },
  {
   "cell_type": "code",
   "execution_count": null,
   "id": "18a782be",
   "metadata": {},
   "outputs": [],
   "source": []
  },
  {
   "cell_type": "code",
   "execution_count": null,
   "id": "2136a787",
   "metadata": {},
   "outputs": [],
   "source": []
  },
  {
   "cell_type": "code",
   "execution_count": null,
   "id": "a1f56f77",
   "metadata": {},
   "outputs": [],
   "source": []
  },
  {
   "cell_type": "code",
   "execution_count": null,
   "id": "01e3d5d0",
   "metadata": {},
   "outputs": [],
   "source": []
  },
  {
   "cell_type": "code",
   "execution_count": null,
   "id": "0ba2eb95",
   "metadata": {},
   "outputs": [],
   "source": []
  },
  {
   "cell_type": "code",
   "execution_count": null,
   "id": "11270db7",
   "metadata": {},
   "outputs": [],
   "source": []
  },
  {
   "cell_type": "code",
   "execution_count": null,
   "id": "98816a56",
   "metadata": {},
   "outputs": [],
   "source": []
  },
  {
   "cell_type": "code",
   "execution_count": null,
   "id": "5ba935f8",
   "metadata": {},
   "outputs": [],
   "source": []
  },
  {
   "cell_type": "code",
   "execution_count": null,
   "id": "56a48124",
   "metadata": {},
   "outputs": [],
   "source": []
  },
  {
   "cell_type": "code",
   "execution_count": null,
   "id": "a597e77a",
   "metadata": {},
   "outputs": [],
   "source": []
  },
  {
   "cell_type": "code",
   "execution_count": null,
   "id": "dbafa1b2",
   "metadata": {},
   "outputs": [],
   "source": []
  },
  {
   "cell_type": "code",
   "execution_count": null,
   "id": "69703140",
   "metadata": {},
   "outputs": [],
   "source": []
  }
 ],
 "metadata": {
  "kernelspec": {
   "display_name": "Python 3",
   "language": "python",
   "name": "python3"
  },
  "language_info": {
   "codemirror_mode": {
    "name": "ipython",
    "version": 3
   },
   "file_extension": ".py",
   "mimetype": "text/x-python",
   "name": "python",
   "nbconvert_exporter": "python",
   "pygments_lexer": "ipython3",
   "version": "3.8.8"
  }
 },
 "nbformat": 4,
 "nbformat_minor": 5
}
